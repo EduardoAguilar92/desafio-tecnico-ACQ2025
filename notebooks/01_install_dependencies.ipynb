{
 "cells": [
  {
   "cell_type": "code",
   "execution_count": 1,
   "id": "242586ff",
   "metadata": {},
   "outputs": [
    {
     "name": "stdout",
     "output_type": "stream",
     "text": [
      "Requirement already satisfied: pandas in c:\\proyectos\\desafio-tecnico-acq2025\\.venv\\lib\\site-packages (2.3.0)\n",
      "Requirement already satisfied: numpy in c:\\proyectos\\desafio-tecnico-acq2025\\.venv\\lib\\site-packages (2.1.3)\n",
      "Requirement already satisfied: matplotlib in c:\\proyectos\\desafio-tecnico-acq2025\\.venv\\lib\\site-packages (3.10.0)\n",
      "Requirement already satisfied: seaborn in c:\\proyectos\\desafio-tecnico-acq2025\\.venv\\lib\\site-packages (0.13.2)\n",
      "Requirement already satisfied: scikit-learn in c:\\proyectos\\desafio-tecnico-acq2025\\.venv\\lib\\site-packages (1.7.0)\n",
      "Requirement already satisfied: ydata-profiling in c:\\proyectos\\desafio-tecnico-acq2025\\.venv\\lib\\site-packages (4.16.1)\n",
      "Requirement already satisfied: setuptools in c:\\proyectos\\desafio-tecnico-acq2025\\.venv\\lib\\site-packages (80.9.0)\n",
      "Requirement already satisfied: ipywidgets in c:\\proyectos\\desafio-tecnico-acq2025\\.venv\\lib\\site-packages (8.1.7)\n",
      "Requirement already satisfied: tabulate in c:\\proyectos\\desafio-tecnico-acq2025\\.venv\\lib\\site-packages (0.9.0)\n",
      "Requirement already satisfied: scipy in c:\\proyectos\\desafio-tecnico-acq2025\\.venv\\lib\\site-packages (1.15.3)\n",
      "Requirement already satisfied: pip in c:\\proyectos\\desafio-tecnico-acq2025\\.venv\\lib\\site-packages (25.1.1)\n",
      "Note: you may need to restart the kernel to use updated packages.\n"
     ]
    },
    {
     "name": "stderr",
     "output_type": "stream",
     "text": [
      "ERROR: Could not find a version that satisfies the requirement install (from versions: none)\n",
      "ERROR: No matching distribution found for install\n"
     ]
    }
   ],
   "source": [
    "%pip install pandas numpy matplotlib seaborn scikit-learn ydata-profiling setuptools ipywidgets tabulate scipy "
   ]
  },
  {
   "cell_type": "code",
   "execution_count": 5,
   "id": "3afc4412",
   "metadata": {},
   "outputs": [
    {
     "name": "stdout",
     "output_type": "stream",
     "text": [
      "Package                 Version\n",
      "----------------------- -----------\n",
      "annotated-types         0.7.0\n",
      "asttokens               3.0.0\n",
      "attrs                   25.3.0\n",
      "certifi                 2025.6.15\n",
      "charset-normalizer      3.4.2\n",
      "colorama                0.4.6\n",
      "comm                    0.2.2\n",
      "contourpy               1.3.2\n",
      "cycler                  0.12.1\n",
      "dacite                  1.9.2\n",
      "debugpy                 1.8.14\n",
      "decorator               5.2.1\n",
      "executing               2.2.0\n",
      "fonttools               4.58.4\n",
      "htmlmin                 0.1.12\n",
      "idna                    3.10\n",
      "ImageHash               4.3.1\n",
      "ipykernel               6.29.5\n",
      "ipython                 9.3.0\n",
      "ipython_pygments_lexers 1.1.1\n",
      "ipywidgets              8.1.7\n",
      "jedi                    0.19.2\n",
      "Jinja2                  3.1.6\n",
      "joblib                  1.5.1\n",
      "jupyter_client          8.6.3\n",
      "jupyter_core            5.8.1\n",
      "jupyterlab_widgets      3.0.15\n",
      "kiwisolver              1.4.8\n",
      "llvmlite                0.44.0\n",
      "MarkupSafe              3.0.2\n",
      "matplotlib              3.10.0\n",
      "matplotlib-inline       0.1.7\n",
      "multimethod             1.12\n",
      "nest-asyncio            1.6.0\n",
      "networkx                3.5\n",
      "numba                   0.61.0\n",
      "numpy                   2.1.3\n",
      "packaging               25.0\n",
      "pandas                  2.3.0\n",
      "parso                   0.8.4\n",
      "patsy                   1.0.1\n",
      "phik                    0.12.4\n",
      "pillow                  11.2.1\n",
      "pip                     25.1.1\n",
      "platformdirs            4.3.8\n",
      "prompt_toolkit          3.0.51\n",
      "psutil                  7.0.0\n",
      "pure_eval               0.2.3\n",
      "puremagic               1.29\n",
      "pydantic                2.11.7\n",
      "pydantic_core           2.33.2\n",
      "Pygments                2.19.2\n",
      "pyparsing               3.2.3\n",
      "python-dateutil         2.9.0.post0\n",
      "pytz                    2025.2\n",
      "PyWavelets              1.8.0\n",
      "pywin32                 310\n",
      "PyYAML                  6.0.2\n",
      "pyzmq                   27.0.0\n",
      "requests                2.32.4\n",
      "scikit-learn            1.7.0\n",
      "scipy                   1.15.3\n",
      "seaborn                 0.13.2\n",
      "setuptools              80.9.0\n",
      "six                     1.17.0\n",
      "stack-data              0.6.3\n",
      "statsmodels             0.14.4\n",
      "tabulate                0.9.0\n",
      "threadpoolctl           3.6.0\n",
      "tornado                 6.5.1\n",
      "tqdm                    4.67.1\n",
      "traitlets               5.14.3\n",
      "typeguard               4.4.4\n",
      "typing_extensions       4.14.0\n",
      "typing-inspection       0.4.1\n",
      "tzdata                  2025.2\n",
      "urllib3                 2.5.0\n",
      "visions                 0.8.1\n",
      "wcwidth                 0.2.13\n",
      "widgetsnbextension      4.0.14\n",
      "wordcloud               1.9.4\n",
      "ydata-profiling         4.16.1\n",
      "Note: you may need to restart the kernel to use updated packages.\n"
     ]
    }
   ],
   "source": [
    "%pip list"
   ]
  },
  {
   "cell_type": "code",
   "execution_count": 1,
   "id": "e3ae8b66",
   "metadata": {},
   "outputs": [
    {
     "name": "stdout",
     "output_type": "stream",
     "text": [
      "Note: you may need to restart the kernel to use updated packages.\n"
     ]
    }
   ],
   "source": [
    "%pip freeze > requirements.txt"
   ]
  },
  {
   "cell_type": "code",
   "execution_count": null,
   "id": "bb36c185",
   "metadata": {},
   "outputs": [],
   "source": []
  }
 ],
 "metadata": {
  "kernelspec": {
   "display_name": ".venv",
   "language": "python",
   "name": "python3"
  },
  "language_info": {
   "codemirror_mode": {
    "name": "ipython",
    "version": 3
   },
   "file_extension": ".py",
   "mimetype": "text/x-python",
   "name": "python",
   "nbconvert_exporter": "python",
   "pygments_lexer": "ipython3",
   "version": "3.12.6"
  }
 },
 "nbformat": 4,
 "nbformat_minor": 5
}
